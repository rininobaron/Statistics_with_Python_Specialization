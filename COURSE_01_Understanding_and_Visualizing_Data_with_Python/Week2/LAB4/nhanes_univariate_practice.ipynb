{
 "cells": [
  {
   "cell_type": "markdown",
   "metadata": {},
   "source": [
    "# Practice notebook for univariate analysis using NHANES data\n",
    "\n",
    "This notebook will give you the opportunity to perform some univariate analyses on your own using the NHANES.  These analyses are similar to what was done in the week 2 NHANES case study notebook.\n",
    "\n",
    "You can enter your code into the cells that say \"enter your code here\", and you can type responses to the questions into the cells that say \"Type Markdown and Latex\".\n",
    "\n",
    "Note that most of the code that you will need to write below is very similar to code that appears in the case study notebook.  You will need to edit code from that notebook in small ways to adapt it to the prompts below.\n",
    "\n",
    "To get started, we will use the same module imports and read the data in the same way as we did in the case study:"
   ]
  },
  {
   "cell_type": "code",
   "execution_count": 1,
   "metadata": {},
   "outputs": [],
   "source": [
    "%matplotlib inline\n",
    "import matplotlib.pyplot as plt\n",
    "import seaborn as sns\n",
    "import pandas as pd\n",
    "import statsmodels.api as sm\n",
    "import numpy as np\n",
    "\n",
    "da = pd.read_csv(\"nhanes_2015_2016.csv\")"
   ]
  },
  {
   "cell_type": "markdown",
   "metadata": {},
   "source": [
    "## Question 1\n",
    "\n",
    "Relabel the marital status variable [DMDMARTL](https://wwwn.cdc.gov/Nchs/Nhanes/2015-2016/DEMO_I.htm#DMDMARTL) to have brief but informative character labels.  Then construct a frequency table of these values for all people, then for women only, and for men only.  Then construct these three frequency tables using only people whose age is between 30 and 40."
   ]
  },
  {
   "cell_type": "code",
   "execution_count": 2,
   "metadata": {},
   "outputs": [
    {
     "data": {
      "text/plain": [
       "Married                2780\n",
       "Never married          1004\n",
       "Divorced                579\n",
       "Living with partner     527\n",
       "Widowed                 396\n",
       "Missing                 261\n",
       "Separated               186\n",
       "Refused                   2\n",
       "Name: DMDMARTLx, dtype: int64"
      ]
     },
     "execution_count": 2,
     "metadata": {},
     "output_type": "execute_result"
    }
   ],
   "source": [
    "da[\"DMDMARTLx\"] = da.DMDMARTL.replace({1:\"Married\", 2:\"Widowed\", 3:\"Divorced\", 4:\"Separated\", 5:\"Never married\", 6:\"Living with partner\", 77:\"Refused\", 99:\"Don't Know\"})\n",
    "da[\"DMDMARTLx\"] = da.DMDMARTLx.fillna(\"Missing\")\n",
    "da.DMDMARTLx.value_counts()"
   ]
  },
  {
   "cell_type": "code",
   "execution_count": 3,
   "metadata": {},
   "outputs": [
    {
     "data": {
      "text/plain": [
       "Married                0.484743\n",
       "Never married          0.175065\n",
       "Divorced               0.100959\n",
       "Living with partner    0.091892\n",
       "Widowed                0.069050\n",
       "Missing                0.045510\n",
       "Separated              0.032432\n",
       "Refused                0.000349\n",
       "Name: DMDMARTLx, dtype: float64"
      ]
     },
     "execution_count": 3,
     "metadata": {},
     "output_type": "execute_result"
    }
   ],
   "source": [
    "temp = da.DMDMARTLx.value_counts()\n",
    "temp / temp.sum()"
   ]
  },
  {
   "cell_type": "code",
   "execution_count": 4,
   "metadata": {},
   "outputs": [
    {
     "data": {
      "text/plain": [
       "Married                1303\n",
       "Never married           520\n",
       "Divorced                350\n",
       "Widowed                 296\n",
       "Living with partner     262\n",
       "Missing                 126\n",
       "Separated               118\n",
       "Refused                   1\n",
       "Name: DMDMARTLx, dtype: int64"
      ]
     },
     "execution_count": 4,
     "metadata": {},
     "output_type": "execute_result"
    }
   ],
   "source": [
    "# Only for women\n",
    "da.DMDMARTLx.where(da[\"RIAGENDR\"]==2).value_counts()"
   ]
  },
  {
   "cell_type": "code",
   "execution_count": 5,
   "metadata": {},
   "outputs": [
    {
     "data": {
      "text/plain": [
       "Married                0.437836\n",
       "Never married          0.174731\n",
       "Divorced               0.117608\n",
       "Widowed                0.099462\n",
       "Living with partner    0.088038\n",
       "Missing                0.042339\n",
       "Separated              0.039651\n",
       "Refused                0.000336\n",
       "Name: DMDMARTLx, dtype: float64"
      ]
     },
     "execution_count": 5,
     "metadata": {},
     "output_type": "execute_result"
    }
   ],
   "source": [
    "temp = da.DMDMARTLx.where(da[\"RIAGENDR\"]==2).value_counts()\n",
    "temp / temp.sum()"
   ]
  },
  {
   "cell_type": "code",
   "execution_count": 6,
   "metadata": {},
   "outputs": [
    {
     "data": {
      "text/plain": [
       "Married                1477\n",
       "Never married           484\n",
       "Living with partner     265\n",
       "Divorced                229\n",
       "Missing                 135\n",
       "Widowed                 100\n",
       "Separated                68\n",
       "Refused                   1\n",
       "Name: DMDMARTLx, dtype: int64"
      ]
     },
     "execution_count": 6,
     "metadata": {},
     "output_type": "execute_result"
    }
   ],
   "source": [
    "# Only for men\n",
    "da.DMDMARTLx.where(da[\"RIAGENDR\"]==1).value_counts()"
   ]
  },
  {
   "cell_type": "code",
   "execution_count": 7,
   "metadata": {},
   "outputs": [
    {
     "data": {
      "text/plain": [
       "Married                0.535339\n",
       "Never married          0.175426\n",
       "Living with partner    0.096049\n",
       "Divorced               0.083001\n",
       "Missing                0.048931\n",
       "Widowed                0.036245\n",
       "Separated              0.024647\n",
       "Refused                0.000362\n",
       "Name: DMDMARTLx, dtype: float64"
      ]
     },
     "execution_count": 7,
     "metadata": {},
     "output_type": "execute_result"
    }
   ],
   "source": [
    "temp = da.DMDMARTLx.where(da[\"RIAGENDR\"]==1).value_counts()\n",
    "temp / temp.sum()"
   ]
  },
  {
   "cell_type": "markdown",
   "metadata": {},
   "source": [
    "Constructing previous six frequency tables using only people whose age is between 30 and 40."
   ]
  },
  {
   "cell_type": "code",
   "execution_count": 8,
   "metadata": {},
   "outputs": [
    {
     "data": {
      "text/plain": [
       "Married                560\n",
       "Never married          217\n",
       "Living with partner    143\n",
       "Divorced                70\n",
       "Separated               30\n",
       "Widowed                  5\n",
       "Refused                  1\n",
       "Name: DMDMARTLx, dtype: int64"
      ]
     },
     "execution_count": 8,
     "metadata": {},
     "output_type": "execute_result"
    }
   ],
   "source": [
    "# Men and women\n",
    "da.DMDMARTLx.where((da[\"RIDAGEYR\"]>=30) & (da[\"RIDAGEYR\"]<=40)).value_counts()"
   ]
  },
  {
   "cell_type": "code",
   "execution_count": 9,
   "metadata": {},
   "outputs": [
    {
     "data": {
      "text/plain": [
       "Married                0.545809\n",
       "Never married          0.211501\n",
       "Living with partner    0.139376\n",
       "Divorced               0.068226\n",
       "Separated              0.029240\n",
       "Widowed                0.004873\n",
       "Refused                0.000975\n",
       "Name: DMDMARTLx, dtype: float64"
      ]
     },
     "execution_count": 9,
     "metadata": {},
     "output_type": "execute_result"
    }
   ],
   "source": [
    "temp = da.DMDMARTLx.where((da[\"RIDAGEYR\"]>=30) & (da[\"RIDAGEYR\"]<=40)).value_counts()\n",
    "temp / temp.sum()"
   ]
  },
  {
   "cell_type": "code",
   "execution_count": 10,
   "metadata": {},
   "outputs": [
    {
     "data": {
      "text/plain": [
       "Married                285\n",
       "Never married          116\n",
       "Living with partner     65\n",
       "Divorced                46\n",
       "Separated               18\n",
       "Widowed                  2\n",
       "Name: DMDMARTLx, dtype: int64"
      ]
     },
     "execution_count": 10,
     "metadata": {},
     "output_type": "execute_result"
    }
   ],
   "source": [
    "# Only for women\n",
    "da.DMDMARTLx.where((da[\"RIDAGEYR\"]>=30) & (da[\"RIDAGEYR\"]<=40) & (da[\"RIAGENDR\"]==2)).value_counts()"
   ]
  },
  {
   "cell_type": "code",
   "execution_count": 11,
   "metadata": {},
   "outputs": [
    {
     "data": {
      "text/plain": [
       "Married                0.535714\n",
       "Never married          0.218045\n",
       "Living with partner    0.122180\n",
       "Divorced               0.086466\n",
       "Separated              0.033835\n",
       "Widowed                0.003759\n",
       "Name: DMDMARTLx, dtype: float64"
      ]
     },
     "execution_count": 11,
     "metadata": {},
     "output_type": "execute_result"
    }
   ],
   "source": [
    "temp = da.DMDMARTLx.where((da[\"RIDAGEYR\"]>=30) & (da[\"RIDAGEYR\"]<=40) & (da[\"RIAGENDR\"]==2)).value_counts()\n",
    "temp / temp.sum()"
   ]
  },
  {
   "cell_type": "code",
   "execution_count": 12,
   "metadata": {},
   "outputs": [
    {
     "data": {
      "text/plain": [
       "Married                275\n",
       "Never married          101\n",
       "Living with partner     78\n",
       "Divorced                24\n",
       "Separated               12\n",
       "Widowed                  3\n",
       "Refused                  1\n",
       "Name: DMDMARTLx, dtype: int64"
      ]
     },
     "execution_count": 12,
     "metadata": {},
     "output_type": "execute_result"
    }
   ],
   "source": [
    "# Only for men\n",
    "da.DMDMARTLx.where((da[\"RIDAGEYR\"]>=30) & (da[\"RIDAGEYR\"]<=40) & (da[\"RIAGENDR\"]==1)).value_counts()"
   ]
  },
  {
   "cell_type": "code",
   "execution_count": 13,
   "metadata": {},
   "outputs": [
    {
     "data": {
      "text/plain": [
       "Married                0.556680\n",
       "Never married          0.204453\n",
       "Living with partner    0.157895\n",
       "Divorced               0.048583\n",
       "Separated              0.024291\n",
       "Widowed                0.006073\n",
       "Refused                0.002024\n",
       "Name: DMDMARTLx, dtype: float64"
      ]
     },
     "execution_count": 13,
     "metadata": {},
     "output_type": "execute_result"
    }
   ],
   "source": [
    "temp = da.DMDMARTLx.where((da[\"RIDAGEYR\"]>=30) & (da[\"RIDAGEYR\"]<=40) & (da[\"RIAGENDR\"]==1)).value_counts()\n",
    "temp / temp.sum()"
   ]
  },
  {
   "cell_type": "markdown",
   "metadata": {},
   "source": [
    "__Q1a.__ Briefly comment on some of the differences that you observe between the distribution of marital status between women and men, for people of all ages."
   ]
  },
  {
   "cell_type": "raw",
   "metadata": {},
   "source": [
    "In both gender groups, being married is more popular, but the proportion of married men is greater than that of women. Additionally, there are more divorced women than men proportionally, more women are widowed than men proportionally, and more men live with a partner than women proportionally."
   ]
  },
  {
   "cell_type": "markdown",
   "metadata": {},
   "source": [
    "__Q1b.__ Briefly comment on the differences that you observe between the distribution of marital status states for women between the overall population, and for women between the ages of 30 and 40."
   ]
  },
  {
   "cell_type": "raw",
   "metadata": {},
   "source": [
    "There are proportionally more women aged 30 to 40 who are married than in the overall population, while there are slightly more divorced women in the overall population than in the group of women aged between 30 and 40. Finally, there are significantly more widowed women in the overall population than among women aged 30 to 40."
   ]
  },
  {
   "cell_type": "markdown",
   "metadata": {},
   "source": [
    "__Q1c.__ Repeat part b for the men."
   ]
  },
  {
   "cell_type": "raw",
   "metadata": {},
   "source": [
    "There are slightly more married men aged 30 to 40 than in the overall population, while there are significantly more divorced men in the overall population than among men aged 30 to 40. However, living with a partner is the opposite, with proportionally more men aged 30 to 40 than in the overall population. Additionally, proportionally there are slightly more men aged 30 to 40 who have never been married than in the overall population."
   ]
  },
  {
   "cell_type": "markdown",
   "metadata": {},
   "source": [
    "## Question 2\n",
    "\n",
    "Restricting to the female population, stratify the subjects into age bands no wider than ten years, and construct the distribution of marital status within each age band.  Within each age band, present the distribution in terms of proportions that must sum to 1."
   ]
  },
  {
   "cell_type": "code",
   "execution_count": 14,
   "metadata": {
    "scrolled": false
   },
   "outputs": [
    {
     "data": {
      "text/plain": [
       "array(['Married', 'Divorced', 'Living with partner', 'Separated',\n",
       "       'Never married', 'Missing', 'Widowed', 'Refused'], dtype=object)"
      ]
     },
     "execution_count": 14,
     "metadata": {},
     "output_type": "execute_result"
    }
   ],
   "source": [
    "marital=da[\"DMDMARTLx\"].unique()\n",
    "marital"
   ]
  },
  {
   "cell_type": "code",
   "execution_count": 15,
   "metadata": {},
   "outputs": [],
   "source": [
    "ages_cut=[18, 30, 40, 50, 60, 70, 80]\n",
    "da[\"agegrp\"] = pd.cut(da.RIDAGEYR, ages_cut)\n",
    "temp = da.where(da[\"RIAGENDR\"]==2).groupby(\"agegrp\")[\"DMDMARTLx\"].value_counts()\n",
    "temp = temp.astype(float)"
   ]
  },
  {
   "cell_type": "code",
   "execution_count": 16,
   "metadata": {},
   "outputs": [
    {
     "data": {
      "text/plain": [
       "agegrp    DMDMARTLx          \n",
       "(18, 30]  Never married          0.425287\n",
       "          Married                0.259442\n",
       "          Living with partner    0.187192\n",
       "          Missing                0.091954\n",
       "          Divorced               0.018062\n",
       "          Separated              0.018062\n",
       "(30, 40]  Married                0.544304\n",
       "          Never married          0.204641\n",
       "          Living with partner    0.120253\n",
       "          Divorced               0.090717\n",
       "          Separated              0.035865\n",
       "          Widowed                0.004219\n",
       "(40, 50]  Married                0.573705\n",
       "          Divorced               0.137450\n",
       "          Never married          0.125498\n",
       "          Living with partner    0.073705\n",
       "          Separated              0.065737\n",
       "          Widowed                0.023904\n",
       "(50, 60]  Married                0.546809\n",
       "          Divorced               0.176596\n",
       "          Never married          0.089362\n",
       "          Living with partner    0.068085\n",
       "          Widowed                0.059574\n",
       "          Separated              0.057447\n",
       "          Refused                0.002128\n",
       "(60, 70]  Married                0.480726\n",
       "          Divorced               0.192744\n",
       "          Widowed                0.147392\n",
       "          Never married          0.086168\n",
       "          Separated              0.049887\n",
       "          Living with partner    0.043084\n",
       "(70, 80]  Widowed                0.460976\n",
       "          Married                0.317073\n",
       "          Divorced               0.143902\n",
       "          Never married          0.051220\n",
       "          Separated              0.019512\n",
       "          Living with partner    0.007317\n",
       "Name: DMDMARTLx, dtype: float64"
      ]
     },
     "execution_count": 16,
     "metadata": {},
     "output_type": "execute_result"
    }
   ],
   "source": [
    "for i in range(len(ages_cut)):\n",
    "    suma=temp[pd.Interval(ages_cut[i], ages_cut[i+1], closed='right')].sum()\n",
    "    for item in marital:\n",
    "        try:\n",
    "            temp_value=temp[(pd.Interval(ages_cut[i], ages_cut[i+1], closed='right'), item)]\n",
    "            temp[(pd.Interval(ages_cut[i], ages_cut[i+1], closed='right'), item)]=float(temp_value/suma)\n",
    "        except:\n",
    "            continue\n",
    "    if ages_cut[i+1]==80:\n",
    "        break\n",
    "temp"
   ]
  },
  {
   "cell_type": "markdown",
   "metadata": {},
   "source": [
    "__Q2a.__ Comment on the trends that you see in this series of marginal distributions."
   ]
  },
  {
   "cell_type": "raw",
   "metadata": {},
   "source": [
    "The \"never married\" status tends to be more common in younger age groups, while the \"married\" status tends to increase until the ages of 40 to 50 before beginning to decrease."
   ]
  },
  {
   "cell_type": "markdown",
   "metadata": {},
   "source": [
    "__Q2b.__ Repeat the construction for males."
   ]
  },
  {
   "cell_type": "code",
   "execution_count": 17,
   "metadata": {},
   "outputs": [],
   "source": [
    "da[\"agegrp\"] = pd.cut(da.RIDAGEYR, ages_cut)\n",
    "temp = da.where(da[\"RIAGENDR\"]==1).groupby(\"agegrp\")[\"DMDMARTLx\"].value_counts()\n",
    "temp = temp.astype(float)"
   ]
  },
  {
   "cell_type": "code",
   "execution_count": 18,
   "metadata": {},
   "outputs": [
    {
     "data": {
      "text/plain": [
       "agegrp    DMDMARTLx          \n",
       "(18, 30]  Never married          0.481618\n",
       "          Married                0.191176\n",
       "          Living with partner    0.174632\n",
       "          Missing                0.132353\n",
       "          Separated              0.012868\n",
       "          Divorced               0.003676\n",
       "          Widowed                0.003676\n",
       "(30, 40]  Married                0.563319\n",
       "          Never married          0.194323\n",
       "          Living with partner    0.157205\n",
       "          Divorced               0.052402\n",
       "          Separated              0.026201\n",
       "          Widowed                0.004367\n",
       "          Refused                0.002183\n",
       "(40, 50]  Married                0.703242\n",
       "          Never married          0.097257\n",
       "          Divorced               0.084788\n",
       "          Living with partner    0.082294\n",
       "          Separated              0.027431\n",
       "          Widowed                0.004988\n",
       "(50, 60]  Married                0.651982\n",
       "          Divorced               0.125551\n",
       "          Never married          0.103524\n",
       "          Living with partner    0.074890\n",
       "          Separated              0.022026\n",
       "          Widowed                0.022026\n",
       "(60, 70]  Married                0.665904\n",
       "          Divorced               0.125858\n",
       "          Never married          0.086957\n",
       "          Living with partner    0.050343\n",
       "          Widowed                0.038902\n",
       "          Separated              0.032037\n",
       "(70, 80]  Married                0.611940\n",
       "          Widowed                0.166667\n",
       "          Divorced               0.141791\n",
       "          Separated              0.034826\n",
       "          Living with partner    0.022388\n",
       "          Never married          0.022388\n",
       "Name: DMDMARTLx, dtype: float64"
      ]
     },
     "execution_count": 18,
     "metadata": {},
     "output_type": "execute_result"
    }
   ],
   "source": [
    "for i in range(len(ages_cut)):\n",
    "    suma=temp[pd.Interval(ages_cut[i], ages_cut[i+1], closed='right')].sum()\n",
    "    for item in marital:\n",
    "        try:\n",
    "            temp_value=temp[(pd.Interval(ages_cut[i], ages_cut[i+1], closed='right'), item)]\n",
    "            temp[(pd.Interval(ages_cut[i], ages_cut[i+1], closed='right'), item)]=float(temp_value/suma)\n",
    "        except:\n",
    "            continue\n",
    "    if ages_cut[i+1]==80:\n",
    "        break\n",
    "temp"
   ]
  },
  {
   "cell_type": "markdown",
   "metadata": {},
   "source": [
    "__Q2c.__ Comment on any notable differences that you see when comparing these results for females and for males."
   ]
  },
  {
   "cell_type": "raw",
   "metadata": {},
   "source": [
    "The proportion of married men tends to increase up to a peak in the age strata of 40 to 50, after which it begins to slightly decrease. Married men are the most common status among all age strata, except for the youngest (18 to 30). On the other hand, the proportion of married women tends to increase slightly, but in the 70 to 80 age strata, there are more widowed women than married."
   ]
  },
  {
   "cell_type": "markdown",
   "metadata": {},
   "source": [
    "## Question 3\n",
    "\n",
    "Construct a histogram of the distribution of heights using the BMXHT variable in the NHANES sample."
   ]
  },
  {
   "cell_type": "code",
   "execution_count": 19,
   "metadata": {},
   "outputs": [
    {
     "data": {
      "text/plain": [
       "<matplotlib.axes._subplots.AxesSubplot at 0x7f1e5508d128>"
      ]
     },
     "execution_count": 19,
     "metadata": {},
     "output_type": "execute_result"
    },
    {
     "data": {
      "image/png": "[encoded data removed]",
      "text/plain": [
       "<Figure size 432x288 with 1 Axes>"
      ]
     },
     "metadata": {},
     "output_type": "display_data"
    }
   ],
   "source": [
    "sns.distplot(da[[\"BMXHT\"]].dropna())"
   ]
  },
  {
   "cell_type": "markdown",
   "metadata": {},
   "source": [
    "__Q3a.__ Use the `bins` argument to [distplot](https://seaborn.pydata.org/generated/seaborn.distplot.html) to produce histograms with different numbers of bins.  Assess whether the default value for this argument gives a meaningful result, and comment on what happens as the number of bins grows excessively large or excessively small. "
   ]
  },
  {
   "cell_type": "code",
   "execution_count": 20,
   "metadata": {},
   "outputs": [
    {
     "data": {
      "image/png": "[encoded data removed]",
      "text/plain": [
       "<Figure size 432x288 with 1 Axes>"
      ]
     },
     "metadata": {},
     "output_type": "display_data"
    },
    {
     "data": {
      "image/png": "[encoded data removed]",
      "text/plain": [
       "<Figure size 432x288 with 1 Axes>"
      ]
     },
     "metadata": {},
     "output_type": "display_data"
    },
    {
     "data": {
      "image/png": "[encoded data removed]",
      "text/plain": [
       "<Figure size 432x288 with 1 Axes>"
      ]
     },
     "metadata": {},
     "output_type": "display_data"
    },
    {
     "data": {
      "image/png": "[encoded data removed]",
      "text/plain": [
       "<Figure size 432x288 with 1 Axes>"
      ]
     },
     "metadata": {},
     "output_type": "display_data"
    },
    {
     "data": {
      "image/png": "[encoded data removed]",
      "text/plain": [
       "<Figure size 432x288 with 1 Axes>"
      ]
     },
     "metadata": {},
     "output_type": "display_data"
    },
    {
     "data": {
      "image/png": "[encoded data removed]",
      "text/plain": [
       "<Figure size 432x288 with 1 Axes>"
      ]
     },
     "metadata": {},
     "output_type": "display_data"
    },
    {
     "data": {
      "image/png": "[encoded data removed]",
      "text/plain": [
       "<Figure size 432x288 with 1 Axes>"
      ]
     },
     "metadata": {},
     "output_type": "display_data"
    },
    {
     "data": {
      "image/png": "[encoded data removed]",
      "text/plain": [
       "<Figure size 432x288 with 1 Axes>"
      ]
     },
     "metadata": {},
     "output_type": "display_data"
    },
    {
     "data": {
      "image/png": "[encoded data removed]",
      "text/plain": [
       "<Figure size 432x288 with 1 Axes>"
      ]
     },
     "metadata": {},
     "output_type": "display_data"
    },
    {
     "data": {
      "image/png": "[encoded data removed]",
      "text/plain": [
       "<Figure size 432x288 with 1 Axes>"
      ]
     },
     "metadata": {},
     "output_type": "display_data"
    }
   ],
   "source": [
    "for i in range(100):\n",
    "    if i%10==0:\n",
    "        sns.distplot(da[[\"BMXHT\"]].dropna(), bins=len(da[\"BMXHT\"].unique())//(i+1))\n",
    "        plt.show()"
   ]
  },
  {
   "cell_type": "raw",
   "metadata": {},
   "source": [
    "The default value for bins provides a visually appealing representation of the bell-shaped distribution. As the number of bins increases, the accuracy of the values' representation in the histogram decreases."
   ]
  },
  {
   "cell_type": "markdown",
   "metadata": {},
   "source": [
    "__Q3b.__ Make separate histograms for the heights of women and men, then make a side-by-side boxplot showing the heights of women and men."
   ]
  },
  {
   "cell_type": "code",
   "execution_count": 21,
   "metadata": {
    "scrolled": true
   },
   "outputs": [
    {
     "data": {
      "text/plain": [
       "<matplotlib.axes._subplots.AxesSubplot at 0x7f1e4ec9fda0>"
      ]
     },
     "execution_count": 21,
     "metadata": {},
     "output_type": "execute_result"
    },
    {
     "data": {
      "image/png": "[encoded data removed]",
      "text/plain": [
       "<Figure size 432x288 with 1 Axes>"
      ]
     },
     "metadata": {},
     "output_type": "display_data"
    }
   ],
   "source": [
    "# Men\n",
    "sns.distplot(da[[\"BMXHT\"]].where(da[\"RIAGENDR\"]==1).dropna())"
   ]
  },
  {
   "cell_type": "code",
   "execution_count": 22,
   "metadata": {},
   "outputs": [
    {
     "data": {
      "text/plain": [
       "<matplotlib.axes._subplots.AxesSubplot at 0x7f1e5533e6a0>"
      ]
     },
     "execution_count": 22,
     "metadata": {},
     "output_type": "execute_result"
    },
    {
     "data": {
      "image/png": "[encoded data removed]",
      "text/plain": [
       "<Figure size 432x288 with 1 Axes>"
      ]
     },
     "metadata": {},
     "output_type": "display_data"
    }
   ],
   "source": [
    "# Wonen\n",
    "sns.distplot(da[[\"BMXHT\"]].where(da[\"RIAGENDR\"]==2).dropna())"
   ]
  },
  {
   "cell_type": "code",
   "execution_count": 23,
   "metadata": {},
   "outputs": [
    {
     "data": {
      "text/plain": [
       "<matplotlib.axes._subplots.AxesSubplot at 0x7f1e4e95ba90>"
      ]
     },
     "execution_count": 23,
     "metadata": {},
     "output_type": "execute_result"
    },
    {
     "data": {
      "image/png": "[encoded data removed]",
      "text/plain": [
       "<Figure size 432x288 with 1 Axes>"
      ]
     },
     "metadata": {},
     "output_type": "display_data"
    }
   ],
   "source": [
    "# Men\n",
    "sns.distplot(da[[\"BMXHT\"]].where(da[\"RIAGENDR\"]==1).dropna())\n",
    "# Wonen\n",
    "sns.distplot(da[[\"BMXHT\"]].where(da[\"RIAGENDR\"]==2).dropna())"
   ]
  },
  {
   "cell_type": "markdown",
   "metadata": {},
   "source": [
    "The height distribution for men tends to exhibit a leftward skew (negative skewness), indicating that men are generally taller than women."
   ]
  },
  {
   "cell_type": "code",
   "execution_count": 24,
   "metadata": {},
   "outputs": [
    {
     "data": {
      "image/png": "[encoded data removed]",
      "text/plain": [
       "<Figure size 432x288 with 1 Axes>"
      ]
     },
     "metadata": {},
     "output_type": "display_data"
    }
   ],
   "source": [
    "bp = sns.boxplot(x=\"RIAGENDR\", y=\"BMXHT\", data=da)\n",
    "_ = bp.set_ylabel(\"Heights in cm\")"
   ]
  },
  {
   "cell_type": "markdown",
   "metadata": {},
   "source": [
    "__Q3c.__ Comment on what features, if any are not represented clearly in the boxplots, and what features, if any, are easier to see in the boxplots than in the histograms."
   ]
  },
  {
   "cell_type": "raw",
   "metadata": {},
   "source": [
    "t is easier to identify the median and the 50% quantity of the central values in distributions using boxplots, while histograms allow us to observe the shape of the distributions and determine if they are multimodal (with multiple \"peaks\"), although not in this specific case."
   ]
  },
  {
   "cell_type": "markdown",
   "metadata": {},
   "source": [
    "## Question 4\n",
    "\n",
    "Make a boxplot showing the distribution of within-subject differences between the first and second systolic blood pressure measurents ([BPXSY1](https://wwwn.cdc.gov/Nchs/Nhanes/2015-2016/BPX_I.htm#BPXSY1) and [BPXSY2](https://wwwn.cdc.gov/Nchs/Nhanes/2015-2016/BPX_I.htm#BPXSY2))."
   ]
  },
  {
   "cell_type": "code",
   "execution_count": 25,
   "metadata": {},
   "outputs": [
    {
     "data": {
      "image/png": "[encoded data removed]",
      "text/plain": [
       "<Figure size 432x288 with 1 Axes>"
      ]
     },
     "metadata": {},
     "output_type": "display_data"
    }
   ],
   "source": [
    "bp = sns.boxplot(data=da.loc[:, [\"BPXSY1\", \"BPXSY2\"]])\n",
    "_ = bp.set_ylabel(\"Blood pressure in mm/Hg\")"
   ]
  },
  {
   "cell_type": "markdown",
   "metadata": {},
   "source": [
    "__Q4a.__ What proportion of the subjects have a lower SBP on the second reading compared to the first?"
   ]
  },
  {
   "cell_type": "raw",
   "metadata": {},
   "source": [
    "With these boxplots, it is not possible to appreciate a significant variation in proportion between them."
   ]
  },
  {
   "cell_type": "markdown",
   "metadata": {},
   "source": [
    "__Q4b.__ Make side-by-side boxplots of the two systolic blood pressure variables."
   ]
  },
  {
   "cell_type": "code",
   "execution_count": 26,
   "metadata": {},
   "outputs": [],
   "source": [
    "# THIS IS THE SAME QUESTION THAN PREVIOUS"
   ]
  },
  {
   "cell_type": "markdown",
   "metadata": {},
   "source": [
    "__Q4c.__ Comment on the variation within either the first or second systolic blood pressure measurements, and the variation in the within-subject differences between the first and second systolic blood pressure measurements."
   ]
  },
  {
   "cell_type": "raw",
   "metadata": {},
   "source": [
    "The answer is the same than previous question, With the current data, it is not possible to determine a significant variation in the proportion between the two measurements."
   ]
  },
  {
   "cell_type": "markdown",
   "metadata": {},
   "source": [
    "## Question 5\n",
    "\n",
    "Construct a frequency table of household sizes for people within each educational attainment category (the relevant variable is [DMDEDUC2](https://wwwn.cdc.gov/Nchs/Nhanes/2015-2016/DEMO_I.htm#DMDEDUC2)).  Convert the frequencies to proportions."
   ]
  },
  {
   "cell_type": "code",
   "execution_count": 27,
   "metadata": {},
   "outputs": [
    {
     "data": {
      "text/plain": [
       "array([2, 1, 5, 3, 4, 7, 6])"
      ]
     },
     "execution_count": 27,
     "metadata": {},
     "output_type": "execute_result"
    }
   ],
   "source": [
    "da[\"DMDHHSIZ\"].unique()"
   ]
  },
  {
   "cell_type": "code",
   "execution_count": 28,
   "metadata": {},
   "outputs": [],
   "source": [
    "da[\"DMDEDUC2x\"] = da.DMDEDUC2.replace({1:\"Less than 9th grade\", 2:\"9-11th grade (Includes 12th grade with no diploma)\", 3:\"High school graduate/GED or equivalent\", 4:\"Some college or AA degree\", 5:\"College graduate or above\", 7:\"Refused\", 9:\"Don't Know\"})\n",
    "da[\"DMDEDUC2x\"] = da.DMDEDUC2x.fillna(\"Missing\")"
   ]
  },
  {
   "cell_type": "code",
   "execution_count": 29,
   "metadata": {},
   "outputs": [],
   "source": [
    "temp = da.groupby(\"DMDEDUC2x\")[\"DMDHHSIZ\"].value_counts()\n",
    "temp = temp.astype(float)"
   ]
  },
  {
   "cell_type": "code",
   "execution_count": 30,
   "metadata": {},
   "outputs": [],
   "source": [
    "education=da.DMDEDUC2x.unique()\n",
    "numbers=da.DMDHHSIZ.unique()"
   ]
  },
  {
   "cell_type": "code",
   "execution_count": 31,
   "metadata": {},
   "outputs": [
    {
     "data": {
      "text/plain": [
       "DMDEDUC2x                                           DMDHHSIZ\n",
       "9-11th grade (Includes 12th grade with no diploma)  2           0.222395\n",
       "                                                    3           0.163297\n",
       "                                                    4           0.152411\n",
       "                                                    5           0.146190\n",
       "                                                    1           0.116641\n",
       "                                                    6           0.113530\n",
       "                                                    7           0.085537\n",
       "College graduate or above                           2           0.347731\n",
       "                                                    3           0.193997\n",
       "                                                    4           0.165447\n",
       "                                                    1           0.142753\n",
       "                                                    5           0.095168\n",
       "                                                    6           0.029283\n",
       "                                                    7           0.025622\n",
       "Don't Know                                          2           0.666667\n",
       "                                                    5           0.333333\n",
       "High school graduate/GED or equivalent              2           0.270658\n",
       "                                                    3           0.171164\n",
       "                                                    4           0.161889\n",
       "                                                    1           0.152614\n",
       "                                                    5           0.109612\n",
       "                                                    7           0.068297\n",
       "                                                    6           0.065767\n",
       "Less than 9th grade                                 2           0.224427\n",
       "                                                    5           0.148092\n",
       "                                                    3           0.146565\n",
       "                                                    4           0.132824\n",
       "                                                    7           0.129771\n",
       "                                                    1           0.109924\n",
       "                                                    6           0.108397\n",
       "Missing                                             4           0.226054\n",
       "                                                    3           0.210728\n",
       "                                                    5           0.187739\n",
       "                                                    7           0.149425\n",
       "                                                    6           0.134100\n",
       "                                                    2           0.084291\n",
       "                                                    1           0.007663\n",
       "Some college or AA degree                           2           0.268970\n",
       "                                                    3           0.193091\n",
       "                                                    4           0.169031\n",
       "                                                    1           0.151141\n",
       "                                                    5           0.122147\n",
       "                                                    6           0.050586\n",
       "                                                    7           0.045034\n",
       "Name: DMDHHSIZ, dtype: float64"
      ]
     },
     "execution_count": 31,
     "metadata": {},
     "output_type": "execute_result"
    }
   ],
   "source": [
    "for level in education:\n",
    "    suma=temp[level].sum()\n",
    "    for number in numbers:\n",
    "        try:\n",
    "            temp[level, number]=temp[level, number]/suma\n",
    "        except:\n",
    "            continue\n",
    "temp"
   ]
  },
  {
   "cell_type": "markdown",
   "metadata": {},
   "source": [
    "__Q5a.__ Comment on any major differences among the distributions."
   ]
  },
  {
   "cell_type": "raw",
   "metadata": {},
   "source": [
    "9-11th grade (Includes 12th grade with no diploma)\n",
    "peak 2: 0.22\n",
    "College graduate or above\n",
    "peak 2: 0.34\n",
    "High school graduate/GED or equivalent\n",
    "peak 2: 0.27\n",
    "Less than 9th grade\n",
    "peak 2: 0.22\n",
    "Some college or AA degree\n",
    "peak 2: 0.26\n",
    "\n",
    "The groups labeled as \"Some college or AA degrees,\" \"College graduate or above,\" and \"High school graduate/GED or equivalent\" generally have a lower proportion of individuals with more than 6 family members when compared to the \"Less than 9th grade\" group. However, across all groups, the most common number of family members is 2.\n"
   ]
  },
  {
   "cell_type": "markdown",
   "metadata": {},
   "source": [
    "__Q5b.__ Restrict the sample to people between 30 and 40 years of age.  Then calculate the median household size for women and men within each level of educational attainment."
   ]
  },
  {
   "cell_type": "code",
   "execution_count": 32,
   "metadata": {},
   "outputs": [],
   "source": [
    "da[\"RIAGENDRx\"] = da.RIAGENDR.replace({1:\"Men\", 2:\"Women\"})"
   ]
  },
  {
   "cell_type": "code",
   "execution_count": 33,
   "metadata": {},
   "outputs": [
    {
     "data": {
      "text/plain": [
       "RIAGENDRx  DMDEDUC2x                                         \n",
       "Men        9-11th grade (Includes 12th grade with no diploma)    4.5\n",
       "           College graduate or above                             3.0\n",
       "           High school graduate/GED or equivalent                4.0\n",
       "           Less than 9th grade                                   5.0\n",
       "           Some college or AA degree                             4.0\n",
       "Women      9-11th grade (Includes 12th grade with no diploma)    5.0\n",
       "           College graduate or above                             3.0\n",
       "           High school graduate/GED or equivalent                5.0\n",
       "           Less than 9th grade                                   5.0\n",
       "           Some college or AA degree                             4.0\n",
       "Name: DMDHHSIZ, dtype: float64"
      ]
     },
     "execution_count": 33,
     "metadata": {},
     "output_type": "execute_result"
    }
   ],
   "source": [
    "da.where((da[\"RIDAGEYR\"]>=30) & (da[\"RIDAGEYR\"]<=40)).groupby([\"RIAGENDRx\",\"DMDEDUC2x\"])[\"DMDHHSIZ\"].median()"
   ]
  },
  {
   "cell_type": "markdown",
   "metadata": {},
   "source": [
    "## Question 6\n",
    "\n",
    "The participants can be clustered into \"maked variance units\" (MVU) based on every combination of the variables [SDMVSTRA](https://wwwn.cdc.gov/Nchs/Nhanes/2015-2016/DEMO_I.htm#SDMVSTRA) and [SDMVPSU](https://wwwn.cdc.gov/Nchs/Nhanes/2015-2016/DEMO_I.htm#SDMVPSU).  Calculate the mean age ([RIDAGEYR](https://wwwn.cdc.gov/Nchs/Nhanes/2015-2016/DEMO_I.htm#RIDAGEYR)), height ([BMXHT](https://wwwn.cdc.gov/Nchs/Nhanes/2015-2016/BMX_I.htm#BMXHT)), and BMI ([BMXBMI](https://wwwn.cdc.gov/Nchs/Nhanes/2015-2016/BMX_I.htm#BMXBMI)) for each gender ([RIAGENDR](https://wwwn.cdc.gov/Nchs/Nhanes/2015-2016/DEMO_I.htm#RIAGENDR)), within each MVU, and report the ratio between the largest and smallest mean (e.g. for height) across the MVUs."
   ]
  },
  {
   "cell_type": "code",
   "execution_count": 34,
   "metadata": {},
   "outputs": [
    {
     "data": {
      "text/plain": [
       "SDMVSTRA  SDMVPSU  RIAGENDRx\n",
       "119       1        Men          47.861111\n",
       "                   Women        47.663265\n",
       "          2        Men          54.363636\n",
       "                   Women        52.987952\n",
       "120       1        Men          43.130000\n",
       "                   Women        43.636364\n",
       "          2        Men          45.219178\n",
       "                   Women        43.736111\n",
       "121       1        Men          46.750000\n",
       "                   Women        44.397959\n",
       "          2        Men          42.063158\n",
       "                   Women        44.376344\n",
       "122       1        Men          44.653061\n",
       "                   Women        42.897436\n",
       "          2        Men          44.320000\n",
       "                   Women        47.333333\n",
       "123       1        Men          47.829787\n",
       "                   Women        44.841121\n",
       "          2        Men          52.126582\n",
       "                   Women        46.457447\n",
       "124       1        Men          50.750000\n",
       "                   Women        51.664000\n",
       "          2        Men          48.245614\n",
       "                   Women        42.541667\n",
       "125       1        Men          55.165289\n",
       "                   Women        50.900901\n",
       "          2        Men          49.705882\n",
       "                   Women        51.660000\n",
       "126       1        Men          48.416667\n",
       "                   Women        46.229167\n",
       "          2        Men          48.666667\n",
       "                   Women        47.205882\n",
       "127       1        Men          53.137931\n",
       "                   Women        49.694444\n",
       "          2        Men          54.070588\n",
       "                   Women        51.486239\n",
       "128       1        Men          53.673267\n",
       "                   Women        55.638462\n",
       "          2        Men          45.822785\n",
       "                   Women        45.589744\n",
       "129       1        Men          43.922222\n",
       "                   Women        45.329787\n",
       "          2        Men          45.775510\n",
       "                   Women        43.500000\n",
       "130       1        Men          50.516854\n",
       "                   Women        47.810526\n",
       "          2        Men          50.535354\n",
       "                   Women        50.833333\n",
       "131       1        Men          53.140187\n",
       "                   Women        54.893617\n",
       "          2        Men          46.778846\n",
       "                   Women        45.000000\n",
       "132       1        Men          42.380435\n",
       "                   Women        43.210526\n",
       "          2        Men          49.038760\n",
       "                   Women        51.700000\n",
       "133       1        Men          44.054795\n",
       "                   Women        45.105882\n",
       "          2        Men          47.489796\n",
       "                   Women        47.063158\n",
       "Name: RIDAGEYR, dtype: float64"
      ]
     },
     "execution_count": 34,
     "metadata": {},
     "output_type": "execute_result"
    }
   ],
   "source": [
    "da.groupby([\"SDMVSTRA\", \"SDMVPSU\",\"RIAGENDRx\"])[\"RIDAGEYR\"].mean()"
   ]
  },
  {
   "cell_type": "code",
   "execution_count": 35,
   "metadata": {},
   "outputs": [
    {
     "data": {
      "text/plain": [
       "SDMVSTRA  SDMVPSU  RIAGENDRx\n",
       "119       1        Men          172.741667\n",
       "                   Women        159.570408\n",
       "          2        Men          172.906818\n",
       "                   Women        159.244578\n",
       "120       1        Men          169.537755\n",
       "                   Women        155.402041\n",
       "          2        Men          173.075342\n",
       "                   Women        159.218056\n",
       "121       1        Men          172.177885\n",
       "                   Women        158.871579\n",
       "          2        Men          174.764516\n",
       "                   Women        160.229032\n",
       "122       1        Men          173.998969\n",
       "                   Women        161.315385\n",
       "          2        Men          170.332323\n",
       "                   Women        157.231111\n",
       "123       1        Men          174.315217\n",
       "                   Women        162.059615\n",
       "          2        Men          174.454430\n",
       "                   Women        160.476596\n",
       "124       1        Men          172.109009\n",
       "                   Women        158.788710\n",
       "          2        Men          174.291228\n",
       "                   Women        162.853521\n",
       "125       1        Men          173.631092\n",
       "                   Women        160.762385\n",
       "          2        Men          174.456863\n",
       "                   Women        160.021429\n",
       "126       1        Men          175.149398\n",
       "                   Women        160.387500\n",
       "          2        Men          174.713043\n",
       "                   Women        160.892000\n",
       "127       1        Men          171.545349\n",
       "                   Women        157.422430\n",
       "          2        Men          173.366667\n",
       "                   Women        159.022936\n",
       "128       1        Men          169.325000\n",
       "                   Women        156.339062\n",
       "          2        Men          172.400000\n",
       "                   Women        160.437179\n",
       "129       1        Men          171.094318\n",
       "                   Women        156.900000\n",
       "          2        Men          173.138298\n",
       "                   Women        161.034259\n",
       "130       1        Men          176.974157\n",
       "                   Women        161.977895\n",
       "          2        Men          175.061224\n",
       "                   Women        160.060577\n",
       "131       1        Men          175.610476\n",
       "                   Women        161.989362\n",
       "          2        Men          175.091346\n",
       "                   Women        161.673810\n",
       "132       1        Men          172.534066\n",
       "                   Women        161.508421\n",
       "          2        Men          172.809524\n",
       "                   Women        159.138281\n",
       "133       1        Men          171.509722\n",
       "                   Women        158.295122\n",
       "          2        Men          171.179167\n",
       "                   Women        158.627368\n",
       "Name: BMXHT, dtype: float64"
      ]
     },
     "execution_count": 35,
     "metadata": {},
     "output_type": "execute_result"
    }
   ],
   "source": [
    "da.groupby([\"SDMVSTRA\", \"SDMVPSU\",\"RIAGENDRx\"])[\"BMXHT\"].mean()"
   ]
  },
  {
   "cell_type": "code",
   "execution_count": 36,
   "metadata": {},
   "outputs": [
    {
     "data": {
      "text/plain": [
       "SDMVSTRA  SDMVPSU  RIAGENDRx\n",
       "119       1        Men          26.958333\n",
       "                   Women        30.052041\n",
       "          2        Men          27.160465\n",
       "                   Women        27.849398\n",
       "120       1        Men          30.939175\n",
       "                   Women        32.419388\n",
       "          2        Men          27.727397\n",
       "                   Women        27.400000\n",
       "121       1        Men          29.416505\n",
       "                   Women        30.856842\n",
       "          2        Men          26.273118\n",
       "                   Women        26.470968\n",
       "122       1        Men          28.528866\n",
       "                   Women        29.447436\n",
       "          2        Men          25.744444\n",
       "                   Women        26.611111\n",
       "123       1        Men          29.231522\n",
       "                   Women        29.905769\n",
       "          2        Men          28.811392\n",
       "                   Women        30.641489\n",
       "124       1        Men          28.614414\n",
       "                   Women        29.533065\n",
       "          2        Men          27.714035\n",
       "                   Women        28.640845\n",
       "125       1        Men          29.727731\n",
       "                   Women        30.385321\n",
       "          2        Men          29.143564\n",
       "                   Women        28.564286\n",
       "126       1        Men          29.033333\n",
       "                   Women        31.262500\n",
       "          2        Men          29.039130\n",
       "                   Women        29.612121\n",
       "127       1        Men          31.062353\n",
       "                   Women        32.189720\n",
       "          2        Men          30.557831\n",
       "                   Women        30.770642\n",
       "128       1        Men          31.749000\n",
       "                   Women        32.303125\n",
       "          2        Men          26.835443\n",
       "                   Women        27.491026\n",
       "129       1        Men          26.493182\n",
       "                   Women        29.019149\n",
       "          2        Men          28.961702\n",
       "                   Women        29.429630\n",
       "130       1        Men          30.337079\n",
       "                   Women        30.700000\n",
       "          2        Men          29.237755\n",
       "                   Women        31.490385\n",
       "131       1        Men          28.259615\n",
       "                   Women        30.061702\n",
       "          2        Men          30.077885\n",
       "                   Women        32.984127\n",
       "132       1        Men          28.546154\n",
       "                   Women        29.848421\n",
       "          2        Men          28.966667\n",
       "                   Women        30.540625\n",
       "133       1        Men          27.495833\n",
       "                   Women        27.959259\n",
       "          2        Men          27.966667\n",
       "                   Women        29.000000\n",
       "Name: BMXBMI, dtype: float64"
      ]
     },
     "execution_count": 36,
     "metadata": {},
     "output_type": "execute_result"
    }
   ],
   "source": [
    "da.groupby([\"SDMVSTRA\", \"SDMVPSU\",\"RIAGENDRx\"])[\"BMXBMI\"].mean()"
   ]
  },
  {
   "cell_type": "markdown",
   "metadata": {},
   "source": [
    "__Q6a.__ Comment on the extent to which mean age, height, and BMI vary among the MVUs."
   ]
  },
  {
   "cell_type": "raw",
   "metadata": {},
   "source": [
    "The average age is very similar between men and women in nearly all the MVUs.\n",
    "\n",
    "In all MVUs men are taller than women.\n",
    "\n",
    "The Body Mass Index varies significantly between MVUs among men and women, and it is not straightforward to determine which group tends to have a higher index than the other group.\n"
   ]
  },
  {
   "cell_type": "markdown",
   "metadata": {},
   "source": [
    "__Q6b.__ Calculate the inter-quartile range (IQR) for age, height, and BMI for each gender and each MVU.  Report the ratio between the largest and smalles IQR across the MVUs."
   ]
  },
  {
   "cell_type": "code",
   "execution_count": 37,
   "metadata": {},
   "outputs": [
    {
     "name": "stdout",
     "output_type": "stream",
     "text": [
      "AGES\n",
      "The MVU with MINIMUM IQR is: (129, 1, 'Men')\n",
      "IQR: 20.75\n",
      "The MVU with MAXIMUM IQR is: (132, 2, 'Men')\n",
      "IQR: 38.0\n"
     ]
    }
   ],
   "source": [
    "temp=da.groupby([\"SDMVSTRA\", \"SDMVPSU\",\"RIAGENDRx\"])[\"RIDAGEYR\"].mean() # In order to find out the MVUs only\n",
    "q1=da.groupby([\"SDMVSTRA\", \"SDMVPSU\",\"RIAGENDRx\"])[\"RIDAGEYR\"].quantile([0.25])\n",
    "q3=da.groupby([\"SDMVSTRA\", \"SDMVPSU\",\"RIAGENDRx\"])[\"RIDAGEYR\"].quantile([0.75])\n",
    "iqr=q3.values-q1.values\n",
    "min_iqr=min(iqr)\n",
    "max_iqr=max(iqr)\n",
    "index=np.where(iqr==min_iqr)[0][0]\n",
    "print(\"AGES\")\n",
    "print(\"The MVU with MINIMUM IQR is:\",temp.index[index])\n",
    "print(\"IQR:\",min_iqr)\n",
    "index=np.where(iqr==max_iqr)[0][0]\n",
    "print(\"The MVU with MAXIMUM IQR is:\",temp.index[index])\n",
    "print(\"IQR:\",max_iqr)"
   ]
  },
  {
   "cell_type": "code",
   "execution_count": 38,
   "metadata": {},
   "outputs": [
    {
     "name": "stdout",
     "output_type": "stream",
     "text": [
      "HEIGTHS\n",
      "The MVU with MINIMUM IQR is: (122, 2, 'Women')\n",
      "IQR: 7.574999999999989\n",
      "The MVU with MAXIMUM IQR is: (129, 1, 'Men')\n",
      "IQR: 12.300000000000011\n"
     ]
    }
   ],
   "source": [
    "temp=da.groupby([\"SDMVSTRA\", \"SDMVPSU\",\"RIAGENDRx\"])[\"BMXHT\"].mean() # In order to find out the MVUs only\n",
    "q1=da.groupby([\"SDMVSTRA\", \"SDMVPSU\",\"RIAGENDRx\"])[\"BMXHT\"].quantile([0.25])\n",
    "q3=da.groupby([\"SDMVSTRA\", \"SDMVPSU\",\"RIAGENDRx\"])[\"BMXHT\"].quantile([0.75])\n",
    "iqr=q3.values-q1.values\n",
    "min_iqr=min(iqr)\n",
    "max_iqr=max(iqr)\n",
    "index=np.where(iqr==min_iqr)[0][0]\n",
    "print(\"HEIGTHS\")\n",
    "print(\"The MVU with MINIMUM IQR is:\",temp.index[index])\n",
    "print(\"IQR:\",min_iqr)\n",
    "index=np.where(iqr==max_iqr)[0][0]\n",
    "print(\"The MVU with MAXIMUM IQR is:\",temp.index[index])\n",
    "print(\"IQR:\",max_iqr)"
   ]
  },
  {
   "cell_type": "code",
   "execution_count": 39,
   "metadata": {},
   "outputs": [
    {
     "name": "stdout",
     "output_type": "stream",
     "text": [
      "BMIs\n",
      "The MVU with MINIMUM IQR is: (122, 2, 'Men')\n",
      "IQR: 4.100000000000001\n",
      "The MVU with MAXIMUM IQR is: (127, 1, 'Women')\n",
      "IQR: 11.75\n"
     ]
    }
   ],
   "source": [
    "temp=da.groupby([\"SDMVSTRA\", \"SDMVPSU\",\"RIAGENDRx\"])[\"BMXBMI\"].mean() # In order to find out the MVUs only\n",
    "q1=da.groupby([\"SDMVSTRA\", \"SDMVPSU\",\"RIAGENDRx\"])[\"BMXBMI\"].quantile([0.25])\n",
    "q3=da.groupby([\"SDMVSTRA\", \"SDMVPSU\",\"RIAGENDRx\"])[\"BMXBMI\"].quantile([0.75])\n",
    "iqr=q3.values-q1.values\n",
    "min_iqr=min(iqr)\n",
    "max_iqr=max(iqr)\n",
    "index=np.where(iqr==min_iqr)[0][0]\n",
    "print(\"BMIs\")\n",
    "print(\"The MVU with MINIMUM IQR is:\",temp.index[index])\n",
    "print(\"IQR:\",min_iqr)\n",
    "index=np.where(iqr==max_iqr)[0][0]\n",
    "print(\"The MVU with MAXIMUM IQR is:\",temp.index[index])\n",
    "print(\"IQR:\",max_iqr)"
   ]
  },
  {
   "cell_type": "markdown",
   "metadata": {},
   "source": [
    "__Q6c.__ Comment on the extent to which the IQR for age, height, and BMI vary among the MVUs."
   ]
  },
  {
   "cell_type": "raw",
   "metadata": {},
   "source": [
    "The maximum and minimum IQR in the MVUs are from men. The maximum IQR height is from men, but the minimum is from women. This means that the values from men in the maximum MVU are more dispersed around the center of distribution than women. However, in terms of BMIs, the situation is completely different. The women MVU has more dispersion than men.\n"
   ]
  },
  {
   "cell_type": "code",
   "execution_count": null,
   "metadata": {},
   "outputs": [],
   "source": []
  }
 ],
 "metadata": {
  "kernelspec": {
   "display_name": "Python 3",
   "language": "python",
   "name": "python3"
  },
  "language_info": {
   "codemirror_mode": {
    "name": "ipython",
    "version": 3
   },
   "file_extension": ".py",
   "mimetype": "text/x-python",
   "name": "python",
   "nbconvert_exporter": "python",
   "pygments_lexer": "ipython3",
   "version": "3.6.3"
  }
 },
 "nbformat": 4,
 "nbformat_minor": 2
}
